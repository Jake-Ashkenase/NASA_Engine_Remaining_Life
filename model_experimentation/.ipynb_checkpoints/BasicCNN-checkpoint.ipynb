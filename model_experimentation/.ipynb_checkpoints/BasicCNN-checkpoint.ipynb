{
 "cells": [
  {
   "cell_type": "code",
   "execution_count": 1,
   "id": "4d15202f",
   "metadata": {},
   "outputs": [],
   "source": [
    "import torch\n",
    "import torch.nn as nn\n",
    "import torch.optim as optim\n",
    "import numpy as np\n",
    "from torch.utils.data import Dataset, DataLoader\n",
    "import pandas as pd\n",
    "from sklearn.preprocessing import StandardScaler\n",
    "from sklearn.model_selection import train_test_split\n",
    "from torch.utils.data import Dataset, DataLoader\n",
    "import h5py\n",
    "import matplotlib.pyplot as plt"
   ]
  },
  {
   "cell_type": "code",
   "execution_count": 2,
   "id": "a98d616e",
   "metadata": {},
   "outputs": [],
   "source": [
    "class CNNRUL(nn.Module):\n",
    "    def __init__(self, num_features):\n",
    "        super(CNNRUL, self).__init__()\n",
    "        self.conv1 = nn.Conv1d(in_channels=num_features, out_channels=32, kernel_size=3, padding=1)\n",
    "        self.conv2 = nn.Conv1d(in_channels=32, out_channels=64, kernel_size=3, padding=1)\n",
    "        self.conv3 = nn.Conv1d(in_channels=64, out_channels=128, kernel_size=3, padding=1)\n",
    "        self.pool = nn.MaxPool1d(kernel_size=2)\n",
    "        self.flatten = nn.Flatten()\n",
    "        self.fc1 = nn.Linear(128 * (50 // 2 // 2 // 2), 64)  # Adjust based on pooling\n",
    "        self.fc2 = nn.Linear(64, 1)\n",
    "\n",
    "    def forward(self, x):\n",
    "        x = torch.relu(self.conv1(x))\n",
    "        x = self.pool(x)\n",
    "        x = torch.relu(self.conv2(x))\n",
    "        x = self.pool(x)\n",
    "        x = torch.relu(self.conv3(x))\n",
    "        x = self.pool(x)\n",
    "        x = self.flatten(x)\n",
    "        x = torch.relu(self.fc1(x))\n",
    "        return self.fc2(x)"
   ]
  },
  {
   "cell_type": "code",
   "execution_count": 3,
   "id": "b83b99ea",
   "metadata": {},
   "outputs": [],
   "source": [
    "class RULDataset(Dataset):\n",
    "    def __init__(self, X, y, dim=\"i1\"):\n",
    "        \"\"\"\n",
    "        Initialize the dataset by passing a DataFrame.\n",
    "        Args:\n",
    "            dataframe (pd.DataFrame): DataFrame with pixel data and labels.\n",
    "        \"\"\"\n",
    "        if dim == \"1d\":\n",
    "            self.data = X\n",
    "        else:\n",
    "            x_shape = X.shape\n",
    "            self.data = X.reshape(x_shape[0], 1, x_shape[1], x_shape[2])  \n",
    "        self.labels = y  \n",
    "\n",
    "    def __len__(self):\n",
    "        \"\"\"\n",
    "        Return the total number of samples in the dataset.\n",
    "        \"\"\"\n",
    "        return len(self.labels)\n",
    "\n",
    "    def __getitem__(self, idx):\n",
    "        \"\"\"\n",
    "        Retrieve a single sample from the dataset.\n",
    "        Args:\n",
    "            idx (int): Index of the sample to retrieve.\n",
    "        Returns:\n",
    "            (torch.Tensor, torch.Tensor): Tuple of features and label.\n",
    "        \"\"\"\n",
    "        # Convert the features and label to tensors\n",
    "        features = torch.tensor(self.data[idx], dtype=torch.float32)\n",
    "        label = torch.tensor(self.labels[idx], dtype=torch.float32)\n",
    "        return features, label"
   ]
  },
  {
   "cell_type": "code",
   "execution_count": 4,
   "id": "bf505b99",
   "metadata": {},
   "outputs": [],
   "source": [
    "class EarlyStopper:\n",
    "    def __init__(self, patience=3, min_delta=10):\n",
    "        self.patience = patience\n",
    "        self.min_delta = min_delta\n",
    "        self.counter = 0\n",
    "        self.min_loss = float('inf')\n",
    "\n",
    "    def early_stop(self, loss):\n",
    "        if loss < self.min_loss:\n",
    "            self.min_loss = loss\n",
    "            self.counter = 0\n",
    "        elif loss > (self.min_loss + self.min_delta):\n",
    "            self.counter += 1\n",
    "            if self.counter >= self.patience:\n",
    "                return True\n",
    "        return False\n"
   ]
  },
  {
   "cell_type": "code",
   "execution_count": 5,
   "id": "f60f0283",
   "metadata": {},
   "outputs": [],
   "source": [
    "def create_train_test_dataloaders(X, y, test_size=0.2, batch_size=64, shuffle=True, dim=\"1d\"):\n",
    "    \"\"\"\n",
    "    Split the DataFrame into train and test sets and create DataLoaders.\n",
    "    Args:\n",
    "        dataframe (pd.DataFrame): DataFrame containing the data.\n",
    "        test_size (float): Proportion of the data to be used as test data.\n",
    "        batch_size (int): Number of samples per batch.\n",
    "        shuffle (bool): Whether to shuffle the data.\n",
    "    Returns:\n",
    "        tuple: (train_loader, test_loader)\n",
    "    \"\"\"\n",
    "    shuffle_idxs = np.random.permutation(len(y))\n",
    "    X_shuffled = X[shuffle_idxs]\n",
    "    y_shuffled = y[shuffle_idxs]\n",
    "    \n",
    "    split_idx = int(len(y) * test_size)\n",
    "    X_test = X_shuffled[:split_idx]\n",
    "    X_train = X_shuffled[split_idx:]\n",
    "    y_test = y[:split_idx]\n",
    "    y_train = y[:split_idx]\n",
    "    \n",
    "    # Create train and test datasets\n",
    "    train_dataset = RULDataset(X_train, y_train, dim=dim)\n",
    "    test_dataset = RULDataset(X_test, y_test, dim=dim)\n",
    "    \n",
    "    # Create DataLoaders for train and test sets\n",
    "    train_loader = DataLoader(train_dataset, batch_size=batch_size, shuffle=shuffle)\n",
    "    test_loader = DataLoader(test_dataset, batch_size=batch_size, shuffle=False)\n",
    "    \n",
    "    return train_loader, test_loader"
   ]
  },
  {
   "cell_type": "code",
   "execution_count": 6,
   "id": "3a42d880",
   "metadata": {},
   "outputs": [],
   "source": [
    "def load_from_hdf5(filename=\"data.h5\"):\n",
    "    with h5py.File(filename, \"r\") as f:\n",
    "        X = f[\"X\"][:]\n",
    "        y = f[\"y\"][:]\n",
    "    return X, y"
   ]
  },
  {
   "cell_type": "code",
   "execution_count": 7,
   "id": "433bf771",
   "metadata": {},
   "outputs": [],
   "source": [
    "X, y = load_from_hdf5(filename=\"../../sample_windows.h5\")"
   ]
  },
  {
   "cell_type": "code",
   "execution_count": 17,
   "id": "70d544b3",
   "metadata": {},
   "outputs": [],
   "source": [
    "train_loader, test_loader = create_train_test_dataloaders(X, y)"
   ]
  },
  {
   "cell_type": "code",
   "execution_count": 48,
   "id": "a39d40ee",
   "metadata": {},
   "outputs": [],
   "source": [
    "def evaluate_model(model, data_loader, criterion, device, print_loss=True):\n",
    "    model.eval()\n",
    "    overall_loss = 0.0\n",
    "\n",
    "    with torch.no_grad():\n",
    "        for inputs, targets in data_loader:\n",
    "            inputs, targets = inputs.to(device), targets.to(device)\n",
    "            \n",
    "            # Dynamically adjust input shape based on model type\n",
    "            if isinstance(model, CNNRUL2D):  # If using 2D CNN\n",
    "                #inputs = inputs.unsqueeze(1)  # Add channel dim -> [batch, 1, time, features]\n",
    "                pass\n",
    "            else:  # If using 1D CNN\n",
    "                inputs = inputs.permute(0, 2, 1)  # Ensure shape [batch, features, sequence]\n",
    "\n",
    "            outputs = model(inputs).squeeze()\n",
    "            loss = criterion(outputs, targets)\n",
    "            overall_loss += loss.item()\n",
    "\n",
    "    avg_loss = overall_loss / len(data_loader)\n",
    "\n",
    "    if print_loss:\n",
    "        print(f\"Test MSE: {avg_loss:.4f}\")\n",
    "\n",
    "    return avg_loss\n",
    "\n",
    "\n",
    "def train_model(model, train_loader, test_loader, criterion, optimizer, device, num_epochs=5, track_test_loss=True):\n",
    "    model.to(device)\n",
    "    history = {'train_loss': [], 'test_loss': []}  \n",
    "    early_stopper = EarlyStopper(patience=3, min_delta=.01)\n",
    "\n",
    "    for epoch in range(num_epochs):\n",
    "        model.train()\n",
    "        running_loss = 0.0\n",
    "\n",
    "        for inputs, targets in train_loader:\n",
    "            inputs, targets = inputs.to(device), targets.to(device)\n",
    "            # Adjust shape based on model type\n",
    "            if isinstance(model, CNNRUL2D):  # If 2D CNN\n",
    "                #inputs = inputs.unsqueeze(1)  # Shape: [batch, 1, time, features]\n",
    "                pass\n",
    "            else:  # If 1D CNN\n",
    "                inputs = inputs.permute(0, 2, 1)  # Shape: [batch, features, sequence]\n",
    "            optimizer.zero_grad()\n",
    "            outputs = model(inputs).squeeze()\n",
    "            loss = criterion(outputs, targets)\n",
    "            loss.backward()\n",
    "            optimizer.step()\n",
    "\n",
    "            running_loss += loss.item()\n",
    "\n",
    "        avg_train_loss = running_loss / len(train_loader)\n",
    "        history['train_loss'].append(avg_train_loss)\n",
    "\n",
    "        if track_test_loss:\n",
    "            avg_test_loss = evaluate_model(model, test_loader, criterion, device, print_loss=False)\n",
    "            history['test_loss'].append(avg_test_loss)\n",
    "            print(f\"Epoch {epoch+1}/{num_epochs}, Train Loss: {avg_train_loss:.4f}, Test Loss: {avg_test_loss:.4f}\")\n",
    "\n",
    "            if early_stopper.early_stop(avg_test_loss):             \n",
    "                break\n",
    "        else:\n",
    "            print(f\"Epoch {epoch+1}/{num_epochs}, Train Loss: {avg_train_loss:.4f}\")\n",
    "\n",
    "            if early_stopper.early_stop(avg_train_loss):             \n",
    "                break\n",
    "\n",
    "    return history\n",
    "\n",
    "def plot_loss(history):\n",
    "    epochs = range(1, len(history['train_loss']) + 1)\n",
    "\n",
    "    plt.figure(figsize=(8, 5))\n",
    "    plt.plot(epochs, history['train_loss'], label='Training Loss')\n",
    "    plt.plot(epochs, history['test_loss'], label='Test Loss')\n",
    "    \n",
    "    plt.xlabel('Epochs')\n",
    "    plt.ylabel('Loss')\n",
    "    plt.title('Training vs. Test Loss')\n",
    "    plt.legend()\n",
    "    plt.grid(True)\n",
    "    plt.show()"
   ]
  },
  {
   "cell_type": "code",
   "execution_count": 19,
   "id": "a8c99b9e",
   "metadata": {},
   "outputs": [
    {
     "name": "stdout",
     "output_type": "stream",
     "text": [
      "Epoch 1/10, Train Loss: 865.2993, Test Loss: 113.4322\n",
      "Epoch 2/10, Train Loss: 100.9881, Test Loss: 91.8876\n",
      "Epoch 3/10, Train Loss: 89.4298, Test Loss: 88.1965\n",
      "Epoch 4/10, Train Loss: 87.2881, Test Loss: 86.7943\n",
      "Epoch 5/10, Train Loss: 86.1590, Test Loss: 85.8212\n",
      "Epoch 6/10, Train Loss: 85.3459, Test Loss: 85.1809\n",
      "Epoch 7/10, Train Loss: 84.7234, Test Loss: 84.5655\n",
      "Epoch 8/10, Train Loss: 84.2582, Test Loss: 84.3915\n",
      "Epoch 9/10, Train Loss: 83.9049, Test Loss: 83.8773\n",
      "Epoch 10/10, Train Loss: 83.5971, Test Loss: 83.5372\n"
     ]
    }
   ],
   "source": [
    "device = (\n",
    "    \"cuda\"\n",
    "    if torch.cuda.is_available()\n",
    "    else \"mps\"\n",
    "    if torch.backends.mps.is_available()\n",
    "    else \"cpu\"\n",
    ")\n",
    "num_feats = 44\n",
    "model = CNNRUL(num_features=num_feats).to(device)\n",
    "criterion = nn.MSELoss() \n",
    "optimizer = optim.Adam(model.parameters(), lr=0.00001)\n",
    "num_epochs = 10 \n",
    "\n",
    "history = train_model(model, train_loader, test_loader, criterion, optimizer, device, num_epochs=num_epochs)"
   ]
  },
  {
   "cell_type": "code",
   "execution_count": 20,
   "id": "96557b29",
   "metadata": {},
   "outputs": [
    {
     "data": {
      "image/png": "[encoded data removed]",
      "text/plain": [
       "<Figure size 800x500 with 1 Axes>"
      ]
     },
     "metadata": {},
     "output_type": "display_data"
    }
   ],
   "source": [
    "plot_loss(history)"
   ]
  },
  {
   "cell_type": "code",
   "execution_count": 37,
   "id": "bc8ece6d",
   "metadata": {},
   "outputs": [],
   "source": [
    "class CNNRUL2D(nn.Module):\n",
    "    def __init__(self, num_features):\n",
    "        super(CNNRUL2D, self).__init__()\n",
    "        self.conv1 = nn.Conv2d(in_channels=1, out_channels=32, kernel_size=(3, 3), padding=1)\n",
    "        self.conv2 = nn.Conv2d(in_channels=32, out_channels=64, kernel_size=(3, 3), padding=1)\n",
    "        self.conv3 = nn.Conv2d(in_channels=64, out_channels=128, kernel_size=(3, 3), padding=1)\n",
    "\n",
    "        self.pool = nn.MaxPool2d(kernel_size=(2, 2)) \n",
    "\n",
    "        self.flatten = nn.Flatten()\n",
    "        self.fc1 = nn.Linear(128 * (50 // 2 // 2 // 2) * (num_features // 2 // 2 // 2), 64)\n",
    "        self.fc2 = nn.Linear(64, 1) \n",
    "\n",
    "    def forward(self, x):\n",
    "        # Input shape: [batch, 1, 50, 44]\n",
    "        x = torch.relu(self.conv1(x))\n",
    "        x = self.pool(x)\n",
    "        x = torch.relu(self.conv2(x))\n",
    "        x = self.pool(x)\n",
    "        x = torch.relu(self.conv3(x))\n",
    "        x = self.pool(x)\n",
    "\n",
    "        # Flatten and pass through FC layers\n",
    "        x = self.flatten(x)\n",
    "        x = torch.relu(self.fc1(x))\n",
    "        return self.fc2(x)"
   ]
  },
  {
   "cell_type": "code",
   "execution_count": 42,
   "id": "b726e91a",
   "metadata": {},
   "outputs": [],
   "source": [
    "train_loader, test_loader = create_train_test_dataloaders(X, y, dim=\"2d\")"
   ]
  },
  {
   "cell_type": "code",
   "execution_count": 49,
   "id": "2fbecca1",
   "metadata": {},
   "outputs": [
    {
     "name": "stdout",
     "output_type": "stream",
     "text": [
      "Epoch 1/10, Train Loss: 417.8115, Test Loss: 88.4992\n",
      "Epoch 2/10, Train Loss: 87.0212, Test Loss: 86.1336\n",
      "Epoch 3/10, Train Loss: 85.3384, Test Loss: 85.0036\n",
      "Epoch 4/10, Train Loss: 84.2614, Test Loss: 84.1503\n",
      "Epoch 5/10, Train Loss: 83.5022, Test Loss: 83.1992\n",
      "Epoch 6/10, Train Loss: 82.9773, Test Loss: 82.8193\n",
      "Epoch 7/10, Train Loss: 82.6988, Test Loss: 82.4988\n",
      "Epoch 8/10, Train Loss: 82.5028, Test Loss: 82.4967\n",
      "Epoch 9/10, Train Loss: 82.3418, Test Loss: 82.3393\n",
      "Epoch 10/10, Train Loss: 82.2608, Test Loss: 82.5654\n"
     ]
    },
    {
     "data": {
      "image/png": "[encoded data removed]",
      "text/plain": [
       "<Figure size 800x500 with 1 Axes>"
      ]
     },
     "metadata": {},
     "output_type": "display_data"
    }
   ],
   "source": [
    "num_feats = 44\n",
    "model = CNNRUL2D(num_features=num_feats).to(device)\n",
    "criterion = nn.MSELoss() \n",
    "optimizer = optim.Adam(model.parameters(), lr=0.00001)\n",
    "num_epochs = 10 \n",
    "\n",
    "history = train_model(model, train_loader, test_loader, criterion, optimizer, device, num_epochs=num_epochs)\n",
    "plot_loss(history)"
   ]
  },
  {
   "cell_type": "code",
   "execution_count": null,
   "id": "a4064c13",
   "metadata": {},
   "outputs": [],
   "source": []
  }
 ],
 "metadata": {
  "kernelspec": {
   "display_name": "Python 3 (ipykernel)",
   "language": "python",
   "name": "python3"
  },
  "language_info": {
   "codemirror_mode": {
    "name": "ipython",
    "version": 3
   },
   "file_extension": ".py",
   "mimetype": "text/x-python",
   "name": "python",
   "nbconvert_exporter": "python",
   "pygments_lexer": "ipython3",
   "version": "3.8.8"
  }
 },
 "nbformat": 4,
 "nbformat_minor": 5
}
