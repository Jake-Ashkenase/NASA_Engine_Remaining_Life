{
 "cells": [
  {
   "cell_type": "markdown",
   "id": "eef3f6c9",
   "metadata": {},
   "source": [
    "# Setup\n",
    "We need datasets, dataloaders, and code to train and evaluate models"
   ]
  },
  {
   "cell_type": "code",
   "execution_count": 16,
   "id": "702f54b5",
   "metadata": {},
   "outputs": [],
   "source": [
    "import torch\n",
    "import torch.nn as nn\n",
    "import torch.optim as optim\n",
    "import numpy as np"
   ]
  },
  {
   "cell_type": "code",
   "execution_count": 17,
   "id": "9e3623ab",
   "metadata": {},
   "outputs": [],
   "source": [
    "import os\n",
    "import sys\n",
    "project_root = os.path.abspath(\"..\")\n",
    "if project_root not in sys.path:\n",
    "    sys.path.append(project_root)\n",
    "from models import *\n",
    "from data_structures import *\n",
    "from helpers import load_from_hdf5"
   ]
  },
  {
   "cell_type": "code",
   "execution_count": 18,
   "id": "433bf771",
   "metadata": {},
   "outputs": [],
   "source": [
    "X, y = load_from_hdf5(filename=\"../../engine_windows_sample_scaled.h5\")"
   ]
  },
  {
   "cell_type": "code",
   "execution_count": 19,
   "id": "d121f054",
   "metadata": {},
   "outputs": [],
   "source": [
    "threshold = 20\n",
    "idxs = np.where(y < threshold)[0]\n",
    "X = X[idxs]\n",
    "y = y[idxs]"
   ]
  },
  {
   "cell_type": "code",
   "execution_count": 20,
   "id": "d73cbcce",
   "metadata": {},
   "outputs": [],
   "source": [
    "device = (\n",
    "    \"cuda\"\n",
    "    if torch.cuda.is_available()\n",
    "    else \"mps\"\n",
    "    if torch.backends.mps.is_available()\n",
    "    else \"cpu\"\n",
    ")"
   ]
  },
  {
   "cell_type": "markdown",
   "id": "d27fb58f",
   "metadata": {},
   "source": [
    "# 1d CNN\n",
    "First, let's try a one dimensional CNN to capture temporal relationships within each feature."
   ]
  },
  {
   "cell_type": "code",
   "execution_count": null,
   "id": "860bca2a",
   "metadata": {},
   "outputs": [],
   "source": [
    "train_loader, test_loader = create_train_test_dataloaders(X, y)"
   ]
  },
  {
   "cell_type": "code",
   "execution_count": null,
   "id": "a8c99b9e",
   "metadata": {},
   "outputs": [],
   "source": [
    "num_feats = 44\n",
    "model = CNNRULRegression(num_features=num_feats).to(device)\n",
    "criterion = nn.MSELoss() \n",
    "optimizer = optim.Adam(model.parameters(), lr=0.00001)\n",
    "num_epochs = 20 \n",
    "\n",
    "history = train_model(model, train_loader, test_loader, criterion, optimizer, device, num_epochs=num_epochs)"
   ]
  },
  {
   "cell_type": "code",
   "execution_count": null,
   "id": "96557b29",
   "metadata": {},
   "outputs": [],
   "source": [
    "plot_loss(history)"
   ]
  },
  {
   "cell_type": "code",
   "execution_count": null,
   "id": "d8f22012",
   "metadata": {},
   "outputs": [],
   "source": [
    "plot_rul_predictions(model, test_loader, device)"
   ]
  },
  {
   "cell_type": "markdown",
   "id": "c01153a7",
   "metadata": {},
   "source": [
    "# 2d CNN\n",
    "Now, let's try out a two dimensional CNN to capture interactions among features."
   ]
  },
  {
   "cell_type": "code",
   "execution_count": null,
   "id": "b726e91a",
   "metadata": {},
   "outputs": [],
   "source": [
    "train_loader, test_loader = create_train_test_dataloaders(X, y, dim=\"2d\")"
   ]
  },
  {
   "cell_type": "code",
   "execution_count": null,
   "id": "2fbecca1",
   "metadata": {},
   "outputs": [],
   "source": [
    "num_feats = 44\n",
    "model = CNNRUL2DRegression(num_features=num_feats).to(device)\n",
    "criterion = nn.MSELoss() \n",
    "optimizer = optim.Adam(model.parameters(), lr=0.00001)\n",
    "num_epochs = 15 \n",
    "\n",
    "history = train_model(model, train_loader, test_loader, criterion, optimizer, device, num_epochs=num_epochs)"
   ]
  },
  {
   "cell_type": "code",
   "execution_count": null,
   "id": "a5daaf3e",
   "metadata": {},
   "outputs": [],
   "source": [
    "plot_loss(history)"
   ]
  },
  {
   "cell_type": "code",
   "execution_count": null,
   "id": "f82d4d97",
   "metadata": {},
   "outputs": [],
   "source": [
    "plot_rul_predictions(model, test_loader, device)"
   ]
  },
  {
   "cell_type": "markdown",
   "id": "750be3fa",
   "metadata": {},
   "source": [
    "# Hybrid CNN\n",
    "Now, let's try a hybrid CNN that uses both 1d and 2d convolutions."
   ]
  },
  {
   "cell_type": "code",
   "execution_count": 21,
   "id": "b67bfb46",
   "metadata": {},
   "outputs": [],
   "source": [
    "train_loader, test_loader = create_train_test_dataloaders(X, y)"
   ]
  },
  {
   "cell_type": "code",
   "execution_count": 22,
   "id": "cb949ff3",
   "metadata": {},
   "outputs": [
    {
     "name": "stdout",
     "output_type": "stream",
     "text": [
      "Epoch 1/30, Train Loss: 38.2443, Test Loss: 33.2568\n",
      "Epoch 2/30, Train Loss: 33.1478, Test Loss: 32.7345\n",
      "Epoch 3/30, Train Loss: 32.6565, Test Loss: 32.2160\n",
      "Epoch 4/30, Train Loss: 32.1000, Test Loss: 31.6187\n",
      "Epoch 5/30, Train Loss: 31.4588, Test Loss: 30.9655\n",
      "Epoch 6/30, Train Loss: 30.7164, Test Loss: 30.1731\n",
      "Epoch 7/30, Train Loss: 29.8723, Test Loss: 29.2142\n",
      "Epoch 8/30, Train Loss: 28.8390, Test Loss: 28.0485\n",
      "Epoch 9/30, Train Loss: 27.4856, Test Loss: 26.6188\n",
      "Epoch 10/30, Train Loss: 26.0399, Test Loss: 25.2008\n",
      "Epoch 11/30, Train Loss: 24.5560, Test Loss: 23.7755\n",
      "Epoch 12/30, Train Loss: 23.0237, Test Loss: 22.1256\n",
      "Epoch 13/30, Train Loss: 21.4397, Test Loss: 20.6935\n",
      "Epoch 14/30, Train Loss: 19.8736, Test Loss: 19.3730\n",
      "Epoch 15/30, Train Loss: 18.4064, Test Loss: 17.6721\n",
      "Epoch 16/30, Train Loss: 17.0613, Test Loss: 16.5056\n",
      "Epoch 17/30, Train Loss: 15.8870, Test Loss: 15.4618\n",
      "Epoch 18/30, Train Loss: 14.8928, Test Loss: 14.5132\n",
      "Epoch 19/30, Train Loss: 14.0628, Test Loss: 13.6689\n",
      "Epoch 20/30, Train Loss: 13.3931, Test Loss: 13.0866\n",
      "Epoch 21/30, Train Loss: 12.8340, Test Loss: 12.6100\n",
      "Epoch 22/30, Train Loss: 12.3652, Test Loss: 12.1076\n",
      "Epoch 23/30, Train Loss: 11.9705, Test Loss: 12.0319\n",
      "Epoch 24/30, Train Loss: 11.6447, Test Loss: 11.5441\n",
      "Epoch 25/30, Train Loss: 11.3312, Test Loss: 11.5569\n",
      "Epoch 26/30, Train Loss: 11.0833, Test Loss: 10.9201\n",
      "Epoch 27/30, Train Loss: 10.8564, Test Loss: 10.7074\n",
      "Epoch 28/30, Train Loss: 10.6509, Test Loss: 10.4914\n",
      "Epoch 29/30, Train Loss: 10.4522, Test Loss: 10.4194\n",
      "Epoch 30/30, Train Loss: 10.2851, Test Loss: 10.1942\n"
     ]
    }
   ],
   "source": [
    "num_feats = 33\n",
    "seq_length = 50  \n",
    "model = HybridCNNRegression(num_features=num_feats, seq_length=seq_length).to(device)\n",
    "criterion = nn.MSELoss() \n",
    "optimizer = torch.optim.Adam(model.parameters(), lr=0.00001)\n",
    "num_epochs = 30\n",
    "\n",
    "history = train_model(model, train_loader, test_loader, criterion, optimizer, device, num_epochs=num_epochs)"
   ]
  },
  {
   "cell_type": "code",
   "execution_count": 23,
   "id": "59eb8e80",
   "metadata": {},
   "outputs": [
    {
     "data": {
      "image/png": "[encoded data removed]",
      "text/plain": [
       "<Figure size 800x500 with 1 Axes>"
      ]
     },
     "metadata": {},
     "output_type": "display_data"
    }
   ],
   "source": [
    "plot_loss(history)"
   ]
  },
  {
   "cell_type": "code",
   "execution_count": 24,
   "id": "9b3345f8",
   "metadata": {},
   "outputs": [
    {
     "ename": "TypeError",
     "evalue": "get_predict_and_true() takes 2 positional arguments but 3 were given",
     "output_type": "error",
     "traceback": [
      "\u001b[0;31m---------------------------------------------------------------------------\u001b[0m",
      "\u001b[0;31mTypeError\u001b[0m                                 Traceback (most recent call last)",
      "Input \u001b[0;32mIn [24]\u001b[0m, in \u001b[0;36m<cell line: 1>\u001b[0;34m()\u001b[0m\n\u001b[0;32m----> 1\u001b[0m \u001b[43mplot_rul_predictions\u001b[49m\u001b[43m(\u001b[49m\u001b[43mmodel\u001b[49m\u001b[43m,\u001b[49m\u001b[43m \u001b[49m\u001b[43mtest_loader\u001b[49m\u001b[43m,\u001b[49m\u001b[43m \u001b[49m\u001b[43mdevice\u001b[49m\u001b[43m)\u001b[49m\n",
      "File \u001b[0;32m/Volumes/OMAM/NASA_Engine_Remaining_Life/model_experimentation/models/train_eval.py:108\u001b[0m, in \u001b[0;36mplot_rul_predictions\u001b[0;34m(model, test_loader, device)\u001b[0m\n\u001b[1;32m     99\u001b[0m \u001b[38;5;28;01mdef\u001b[39;00m \u001b[38;5;21mplot_rul_predictions\u001b[39m(model, test_loader, device):\n\u001b[1;32m    100\u001b[0m     \u001b[38;5;124;03m\"\"\"\u001b[39;00m\n\u001b[1;32m    101\u001b[0m \u001b[38;5;124;03m    Plots predicted RUL vs. actual RUL for the test set.\u001b[39;00m\n\u001b[1;32m    102\u001b[0m \n\u001b[0;32m   (...)\u001b[0m\n\u001b[1;32m    106\u001b[0m \u001b[38;5;124;03m        device (str): 'cuda' or 'cpu' based on availability.\u001b[39;00m\n\u001b[1;32m    107\u001b[0m \u001b[38;5;124;03m    \"\"\"\u001b[39;00m\n\u001b[0;32m--> 108\u001b[0m     predicted_rul, actual_rul \u001b[38;5;241m=\u001b[39m \u001b[43mmodel\u001b[49m\u001b[38;5;241;43m.\u001b[39;49m\u001b[43mget_predict_and_true\u001b[49m\u001b[43m(\u001b[49m\u001b[43mtest_loader\u001b[49m\u001b[43m,\u001b[49m\u001b[43m \u001b[49m\u001b[43mdevice\u001b[49m\u001b[43m)\u001b[49m\n\u001b[1;32m    109\u001b[0m     plt\u001b[38;5;241m.\u001b[39mfigure(figsize\u001b[38;5;241m=\u001b[39m(\u001b[38;5;241m8\u001b[39m, \u001b[38;5;241m6\u001b[39m))\n\u001b[1;32m    110\u001b[0m     plt\u001b[38;5;241m.\u001b[39mscatter(actual_rul, predicted_rul, alpha\u001b[38;5;241m=\u001b[39m\u001b[38;5;241m0.5\u001b[39m, label\u001b[38;5;241m=\u001b[39m\u001b[38;5;124m\"\u001b[39m\u001b[38;5;124mPredicted vs Actual\u001b[39m\u001b[38;5;124m\"\u001b[39m, color\u001b[38;5;241m=\u001b[39m\u001b[38;5;124m\"\u001b[39m\u001b[38;5;124mblue\u001b[39m\u001b[38;5;124m\"\u001b[39m)\n",
      "\u001b[0;31mTypeError\u001b[0m: get_predict_and_true() takes 2 positional arguments but 3 were given"
     ]
    }
   ],
   "source": [
    "plot_rul_predictions(model, test_loader, device)"
   ]
  },
  {
   "cell_type": "markdown",
   "id": "feaa7bc1",
   "metadata": {},
   "source": [
    "# More Complex Hybrid Model\n",
    "The model's loss dropping drastically and then remaining stable might indicate underfitting. So, let's try adding additional convolutional layers."
   ]
  },
  {
   "cell_type": "code",
   "execution_count": null,
   "id": "b02d4999",
   "metadata": {},
   "outputs": [],
   "source": [
    "num_feats = 44\n",
    "seq_length = 50  \n",
    "model = ComplexHybridCNNRegression(num_features=num_feats, seq_length=seq_length).to(device)\n",
    "criterion = nn.MSELoss() \n",
    "optimizer = torch.optim.Adam(model.parameters(), lr=0.00001)\n",
    "num_epochs = 15\n",
    "\n",
    "history = train_model(model, train_loader, test_loader, criterion, optimizer, device, num_epochs=num_epochs)"
   ]
  },
  {
   "cell_type": "code",
   "execution_count": null,
   "id": "5a28e58e",
   "metadata": {},
   "outputs": [],
   "source": [
    "plot_loss(history)"
   ]
  },
  {
   "cell_type": "code",
   "execution_count": null,
   "id": "86bca8ab",
   "metadata": {},
   "outputs": [],
   "source": [
    "plot_rul_predictions(model, test_loader, device)"
   ]
  },
  {
   "cell_type": "markdown",
   "id": "d723f164",
   "metadata": {},
   "source": [
    "# Temporal CNN\n",
    "Our more complex hybrid CNN was massively overfitting, so let's go in a different direction. Let's try a temporal CNN instead. "
   ]
  },
  {
   "cell_type": "code",
   "execution_count": null,
   "id": "8343f75c",
   "metadata": {},
   "outputs": [],
   "source": [
    "num_feats = 44\n",
    "seq_length = 50\n",
    "model = TCNRegression(num_features=num_feats, seq_length=seq_length).to(device)\n",
    "criterion = nn.MSELoss()\n",
    "optimizer = torch.optim.Adam(model.parameters(), lr=0.00001)\n",
    "num_epochs = 20\n",
    "\n",
    "history = train_model(model, train_loader, test_loader, criterion, optimizer, device, num_epochs=num_epochs)\n",
    "plot_loss(history)"
   ]
  },
  {
   "cell_type": "code",
   "execution_count": null,
   "id": "3f73fdfc",
   "metadata": {
    "scrolled": true
   },
   "outputs": [],
   "source": [
    "plot_rul_predictions(model, test_loader, device)"
   ]
  },
  {
   "cell_type": "code",
   "execution_count": null,
   "id": "f55d35e9",
   "metadata": {},
   "outputs": [],
   "source": []
  }
 ],
 "metadata": {
  "kernelspec": {
   "display_name": "Python 3 (ipykernel)",
   "language": "python",
   "name": "python3"
  },
  "language_info": {
   "codemirror_mode": {
    "name": "ipython",
    "version": 3
   },
   "file_extension": ".py",
   "mimetype": "text/x-python",
   "name": "python",
   "nbconvert_exporter": "python",
   "pygments_lexer": "ipython3",
   "version": "3.8.8"
  }
 },
 "nbformat": 4,
 "nbformat_minor": 5
}
